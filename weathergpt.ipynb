{
 "cells": [
  {
   "cell_type": "code",
   "execution_count": 7,
   "id": "b5cbbb1f-8667-4dd8-860e-cc5b2e712871",
   "metadata": {
    "tags": []
   },
   "outputs": [
    {
     "name": "stdout",
     "output_type": "stream",
     "text": [
      "Requirement already satisfied: openai in /home/ubuntu/anaconda3/lib/python3.11/site-packages (1.3.5)\n",
      "Requirement already satisfied: anyio<4,>=3.5.0 in /home/ubuntu/anaconda3/lib/python3.11/site-packages (from openai) (3.5.0)\n",
      "Requirement already satisfied: distro<2,>=1.7.0 in /home/ubuntu/anaconda3/lib/python3.11/site-packages (from openai) (1.8.0)\n",
      "Requirement already satisfied: httpx<1,>=0.23.0 in /home/ubuntu/anaconda3/lib/python3.11/site-packages (from openai) (0.25.1)\n",
      "Requirement already satisfied: pydantic<3,>=1.9.0 in /home/ubuntu/anaconda3/lib/python3.11/site-packages (from openai) (1.10.8)\n",
      "Requirement already satisfied: tqdm>4 in /home/ubuntu/anaconda3/lib/python3.11/site-packages (from openai) (4.65.0)\n",
      "Requirement already satisfied: typing-extensions<5,>=4.5 in /home/ubuntu/anaconda3/lib/python3.11/site-packages (from openai) (4.7.1)\n",
      "Requirement already satisfied: idna>=2.8 in /home/ubuntu/anaconda3/lib/python3.11/site-packages (from anyio<4,>=3.5.0->openai) (3.4)\n",
      "Requirement already satisfied: sniffio>=1.1 in /home/ubuntu/anaconda3/lib/python3.11/site-packages (from anyio<4,>=3.5.0->openai) (1.2.0)\n",
      "Requirement already satisfied: certifi in /home/ubuntu/anaconda3/lib/python3.11/site-packages (from httpx<1,>=0.23.0->openai) (2023.7.22)\n",
      "Requirement already satisfied: httpcore in /home/ubuntu/anaconda3/lib/python3.11/site-packages (from httpx<1,>=0.23.0->openai) (1.0.2)\n",
      "Requirement already satisfied: h11<0.15,>=0.13 in /home/ubuntu/anaconda3/lib/python3.11/site-packages (from httpcore->httpx<1,>=0.23.0->openai) (0.14.0)\n",
      "Collecting geopy\n",
      "  Obtaining dependency information for geopy from https://files.pythonhosted.org/packages/e5/15/cf2a69ade4b194aa524ac75112d5caac37414b20a3a03e6865dfe0bd1539/geopy-2.4.1-py3-none-any.whl.metadata\n",
      "  Downloading geopy-2.4.1-py3-none-any.whl.metadata (6.8 kB)\n",
      "Collecting geographiclib<3,>=1.52 (from geopy)\n",
      "  Downloading geographiclib-2.0-py3-none-any.whl (40 kB)\n",
      "\u001b[2K     \u001b[90m━━━━━━━━━━━━━━━━━━━━━━━━━━━━━━━━━━━━━━━━\u001b[0m \u001b[32m40.3/40.3 kB\u001b[0m \u001b[31m3.5 MB/s\u001b[0m eta \u001b[36m0:00:00\u001b[0m\n",
      "\u001b[?25hDownloading geopy-2.4.1-py3-none-any.whl (125 kB)\n",
      "\u001b[2K   \u001b[90m━━━━━━━━━━━━━━━━━━━━━━━━━━━━━━━━━━━━━━━━\u001b[0m \u001b[32m125.4/125.4 kB\u001b[0m \u001b[31m10.3 MB/s\u001b[0m eta \u001b[36m0:00:00\u001b[0m\n",
      "\u001b[?25hInstalling collected packages: geographiclib, geopy\n",
      "Successfully installed geographiclib-2.0 geopy-2.4.1\n"
     ]
    }
   ],
   "source": [
    "!pip install openai\n",
    "!pip install geopy"
   ]
  },
  {
   "cell_type": "code",
   "execution_count": 19,
   "id": "661b58bd-1585-4268-9e01-aa57d5ea1ce3",
   "metadata": {
    "tags": []
   },
   "outputs": [],
   "source": [
    "import geopy\n",
    "from geopy.geocoders import Nominatim\n",
    "geolocator = Nominatim(user_agent=\"my-app\")\n",
    "location = geolocator.reverse(\"48.8588443, 2.2943506\", language='en').raw\n",
    "\n",
    "city = location.get(\"address\").get(\"city\")\n",
    "city = \"Nanjing\""
   ]
  },
  {
   "cell_type": "code",
   "execution_count": 2,
   "id": "7bc4bac0-bac4-4fb5-8fb6-70524f06232c",
   "metadata": {},
   "outputs": [],
   "source": [
    "from openai import OpenAI\n",
    "import os"
   ]
  },
  {
   "cell_type": "code",
   "execution_count": 25,
   "id": "514c6a83-110f-4cfa-929b-e36970106b02",
   "metadata": {
    "tags": []
   },
   "outputs": [
    {
     "name": "stdout",
     "output_type": "stream",
     "text": [
      "date and time = 15:23:40\n"
     ]
    }
   ],
   "source": [
    "from datetime import datetime\n",
    "now = datetime.now()\n",
    "\n",
    "dt_string = now.strftime(\"%H:%M:%S\")"
   ]
  },
  {
   "cell_type": "code",
   "execution_count": 26,
   "id": "a3777455-5e8b-4f4e-9b4f-88681fbedb4e",
   "metadata": {
    "tags": []
   },
   "outputs": [],
   "source": [
    "client = OpenAI()"
   ]
  },
  {
   "cell_type": "code",
   "execution_count": 46,
   "id": "87f23786-4dfb-4855-8a08-5a828266a0f2",
   "metadata": {
    "tags": []
   },
   "outputs": [],
   "source": [
    "prompt = f\"\"\"\n",
    "Visual Weather Artist GPT is designed to provide a unique and artistic representation of the weather in a poem. \n",
    "\n",
    "It can get the city, weather adn time based on the content later\n",
    "\n",
    "It must then issue a whimsical, rhymed poem about the current weather conditions, time of day, and location after confirming a city-level location from the user. \n",
    "\n",
    "It should not display search results or speak outside of providing the poem. \n",
    "\n",
    "\n",
    "The GPT should persistently seek a specific city location if not provided and refrain from any further dialogue until a location is given. It should follow these steps in sequence without prompting from the user after the location is received. (First Poem, Then DALL-E generated weather report)\n",
    "\n",
    "\"\"\"\n",
    "\n"
   ]
  },
  {
   "cell_type": "code",
   "execution_count": 53,
   "id": "ff83af56-6f25-4765-8431-bcd85b265929",
   "metadata": {
    "tags": []
   },
   "outputs": [
    {
     "name": "stdout",
     "output_type": "stream",
     "text": [
      "In the heart of Paris, under the radiant sun's spell,\n",
      "The clock strikes quarter past three, tolling the Notre Dame's bell.\n",
      "The impossible city of lights, displaying a clear, blue array,\n",
      "Sheds her blanket of night, basking in the warmth of day.\n",
      "\n",
      "Here in the bosom of Paris, where streets whisper sweet tales,\n",
      "The sun paints murals of gold, while the cool wind prevails.\n",
      "A balmy four degrees it reads, a touch of winter's chill, yet calm,\n",
      "Caressing the Seine with frigid hands, adding the city an alpine charm.\n",
      "\n",
      "Oh, how lovely she is, adorned in sunbeam's dance,\n",
      "Paris in the afternoon sun, a stage for romance. \n",
      "The sky's azure canvas, decorated with silhouettes of doves,\n",
      "In the heart of Paris, the city that everyone loves.\n",
      "\n",
      "Through quaint café windows, warm coffee mist ascends,\n",
      "While the Eiffel Tower, bathed in gold, heavenward it extends.\n",
      "The city bustles joyfully under the sun's smiling gaze, so bright,\n",
      "Paris, in the mid-afternoon, is an enchanting sight.\n",
      "\n",
      "So, welcome, my dear, to the City of Love's grand tour,\n",
      "Where every moment under the sunny sky, is a lore to be remembered for sure.\n"
     ]
    }
   ],
   "source": [
    "user_input =  f\"city:{city}, time:{dt_string}, weather:sunny, temperature: 4 Celsius degree\"\n",
    "\n",
    "response = client.chat.completions.create(\n",
    "  model=\"gpt-4\",\n",
    "  messages=[\n",
    "      \n",
    "    {\"role\": \"system\", \"content\": prompt},\n",
    "    {\"role\": \"user\", \"content\": user_input}\n",
    "  ]\n",
    ")\n",
    "poem = response.choices[0].message.content\n",
    "poem"
   ]
  },
  {
   "cell_type": "code",
   "execution_count": 56,
   "id": "d080c6f4-b4dc-4e75-aac2-4c3230977e07",
   "metadata": {
    "tags": []
   },
   "outputs": [],
   "source": [
    "image_poem_prompt = f\"\"\"\n",
    "Visual Weather Artist GPT is designed to provide a unique and artistic representation of the weather in a image based on the poem, city, time and weather.\n",
    "\n",
    "So it works as  weather report image generator.\n",
    "\n",
    "The image should incorporate the weather conditions stylistically, such as having elements in the image reflect the weather (e.g., text of the temperature that looks wet in rainy conditions). \n",
    "\n",
    "However，if the image has some text, please limit to temperature and weather. Do not add any other text.\n",
    "\n",
    "{user_input}\n",
    "\n",
    "poem:{poem}\n",
    "\"\"\"\n",
    "response = client.images.generate(\n",
    "  model=\"dall-e-3\",\n",
    "  prompt=image_poem_prompt,\n",
    "  size=\"1024x1024\",\n",
    "  quality=\"standard\",\n",
    "  n=1,\n",
    ")"
   ]
  },
  {
   "cell_type": "code",
   "execution_count": 57,
   "id": "2eedb596-d65b-4a59-9f79-e68a10e85bd1",
   "metadata": {},
   "outputs": [
    {
     "data": {
      "text/plain": [
       "'https://oaidalleapiprodscus.blob.core.windows.net/private/org-OPGoBMjcIFYQXnauEiV3EK56/user-PbAUUEGelwsHts5HT1MEDVD6/img-3wP5ttPqlAw0oZBjLeB0ogSK.png?st=2023-11-24T14%3A49%3A40Z&se=2023-11-24T16%3A49%3A40Z&sp=r&sv=2021-08-06&sr=b&rscd=inline&rsct=image/png&skoid=6aaadede-4fb3-4698-a8f6-684d7786b067&sktid=a48cca56-e6da-484e-a814-9c849652bcb3&skt=2023-11-23T23%3A58%3A44Z&ske=2023-11-24T23%3A58%3A44Z&sks=b&skv=2021-08-06&sig=KV/YJD2L1zI9sM3FsYNYSZ2HTzc7jhfOFB5hjD%2BMfew%3D'"
      ]
     },
     "execution_count": 57,
     "metadata": {},
     "output_type": "execute_result"
    }
   ],
   "source": [
    "image_url = response.data[0].url\n",
    "image_url"
   ]
  },
  {
   "cell_type": "code",
   "execution_count": null,
   "id": "c6cf4d5a-846d-4215-ba33-e6510245be01",
   "metadata": {},
   "outputs": [],
   "source": []
  }
 ],
 "metadata": {
  "kernelspec": {
   "display_name": "Python 3 (ipykernel)",
   "language": "python",
   "name": "python3"
  },
  "language_info": {
   "codemirror_mode": {
    "name": "ipython",
    "version": 3
   },
   "file_extension": ".py",
   "mimetype": "text/x-python",
   "name": "python",
   "nbconvert_exporter": "python",
   "pygments_lexer": "ipython3",
   "version": "3.11.5"
  }
 },
 "nbformat": 4,
 "nbformat_minor": 5
}
